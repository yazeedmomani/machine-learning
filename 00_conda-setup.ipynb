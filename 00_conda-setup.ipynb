{
 "cells": [
  {
   "cell_type": "markdown",
   "id": "b88c9973-8a9e-4adf-8d06-5b75967e6cb5",
   "metadata": {},
   "source": [
    "# Conda Setup"
   ]
  },
  {
   "cell_type": "markdown",
   "id": "8a6f13fb-e5d7-48c4-b73f-013c48d93af4",
   "metadata": {},
   "source": [
    "___"
   ]
  },
  {
   "cell_type": "markdown",
   "id": "5a89906a-4c3f-4195-b0f4-2669e908452c",
   "metadata": {},
   "source": [
    "## How to Set Up a New Project Folder"
   ]
  },
  {
   "cell_type": "markdown",
   "id": "e8cafa53-13a2-45ed-a888-6a367dce99c8",
   "metadata": {},
   "source": [
    "### 1. Make a fresh project folder"
   ]
  },
  {
   "cell_type": "markdown",
   "id": "3578ac9f-75f8-40f9-bd6c-581a8f0078ae",
   "metadata": {},
   "source": [
    "```\n",
    "mkdir my-project\n",
    "cd my-project\n",
    "git init\n",
    "```"
   ]
  },
  {
   "cell_type": "markdown",
   "id": "3e490565-baa1-4cd1-9483-f4c94f9f6f3d",
   "metadata": {},
   "source": [
    "### 2. Recommended starter layout"
   ]
  },
  {
   "cell_type": "markdown",
   "id": "b6e6fc0c-847d-440d-afb2-3cd7420f48e7",
   "metadata": {},
   "source": [
    "```\n",
    "my-project/\n",
    "├─ env/                 \n",
    "├─ notebooks/           \n",
    "├─ src/                 \n",
    "├─ data/                \n",
    "├─ environment.yml      \n",
    "├─ environment.lock.yml\n",
    "└─ .gitignore\n",
    "```"
   ]
  },
  {
   "cell_type": "markdown",
   "id": "f2f37173-e187-4554-a181-6ccece6b5565",
   "metadata": {},
   "source": [
    "### 3. Add to .gitignore"
   ]
  },
  {
   "cell_type": "markdown",
   "id": "ac2dac51-b010-4dde-951e-49550e4635bf",
   "metadata": {},
   "source": [
    "```\n",
    "env/\n",
    "__pycache__/\n",
    ".ipynb_checkpoints/\n",
    "```"
   ]
  },
  {
   "cell_type": "markdown",
   "id": "039bc89f-0159-48e5-9c63-ad5d63f790b3",
   "metadata": {},
   "source": [
    "### 4. Create a new environment"
   ]
  },
  {
   "cell_type": "markdown",
   "id": "703ce860-e110-414d-81cf-c8bb8aab17f2",
   "metadata": {},
   "source": [
    "```\n",
    "conda create -y -p ./env python=3.11\n",
    "```"
   ]
  },
  {
   "cell_type": "markdown",
   "id": "56ec46fd-2dfa-44cd-9759-96ae1fc28724",
   "metadata": {},
   "source": [
    "___"
   ]
  },
  {
   "cell_type": "markdown",
   "id": "347e96f9-6602-4ceb-915c-fd5ff74f3ed9",
   "metadata": {},
   "source": [
    "## How to Install Packages"
   ]
  },
  {
   "cell_type": "markdown",
   "id": "ce135795-e8c6-46ae-be1b-ccce4c790e83",
   "metadata": {},
   "source": [
    "```\n",
    "conda install numpy pandas matplotlib jupyterlab\n",
    "```"
   ]
  },
  {
   "cell_type": "markdown",
   "id": "13f5f21d-268d-4a0b-a6b4-4aaa381ef8f4",
   "metadata": {},
   "source": [
    "___"
   ]
  },
  {
   "cell_type": "markdown",
   "id": "2fce4296-4ef0-4583-96c4-2d761505e25a",
   "metadata": {},
   "source": [
    "## How to Activate/Deactivate Environment"
   ]
  },
  {
   "cell_type": "markdown",
   "id": "7b611ce3-94c9-457e-a6e5-8f158a8e33a4",
   "metadata": {},
   "source": [
    "**Activate**"
   ]
  },
  {
   "cell_type": "markdown",
   "id": "15a3e25a-eefc-4060-9024-9ad40e78aa1f",
   "metadata": {},
   "source": [
    "```\n",
    "conda activate ./env\n",
    "```"
   ]
  },
  {
   "cell_type": "markdown",
   "id": "24419d95-e715-47b9-bcd6-b165b14374c2",
   "metadata": {},
   "source": [
    "**Deactivate**"
   ]
  },
  {
   "cell_type": "markdown",
   "id": "12dc891f-9050-47bf-bf81-0e4502fd5927",
   "metadata": {},
   "source": [
    "```\n",
    "conda deactivate\n",
    "```"
   ]
  },
  {
   "cell_type": "markdown",
   "id": "88c8a979-7d81-4287-b6f9-d022ef31b850",
   "metadata": {},
   "source": [
    "___"
   ]
  },
  {
   "cell_type": "markdown",
   "id": "6de68b85-018a-4e75-9dd6-5b01b58da313",
   "metadata": {},
   "source": [
    "## How to Open Jupyter Notebook"
   ]
  },
  {
   "cell_type": "markdown",
   "id": "07c939e7-84aa-4d12-997e-e71210c72c61",
   "metadata": {},
   "source": [
    "```\n",
    "jupyter notebook\n",
    "```"
   ]
  },
  {
   "cell_type": "markdown",
   "id": "9391ff8e-e4ae-4cee-9b2a-20cef7e6a918",
   "metadata": {},
   "source": [
    "___"
   ]
  },
  {
   "cell_type": "markdown",
   "id": "d61611d7-75c3-46e2-ac92-e530ad7052dd",
   "metadata": {},
   "source": [
    "## How to Import/Export Environments"
   ]
  },
  {
   "cell_type": "markdown",
   "id": "c9857b88-2748-4fa3-84d5-9993e7539fca",
   "metadata": {},
   "source": [
    "**Import**"
   ]
  },
  {
   "cell_type": "markdown",
   "id": "f0768ba0-5ea2-4fc8-8706-aaf03d54f6a3",
   "metadata": {},
   "source": [
    "```\n",
    "conda env export --from-history > environment.yml\n",
    "```"
   ]
  },
  {
   "cell_type": "markdown",
   "id": "671187c0-a56b-4bc6-ba2d-c95205bf21dc",
   "metadata": {},
   "source": [
    "**Export**"
   ]
  },
  {
   "cell_type": "markdown",
   "id": "28d80fb8-3f40-4447-87d5-fd5ccf754aab",
   "metadata": {},
   "source": [
    "```\n",
    "conda env create -f environment.yml -p ./env\n",
    "```"
   ]
  },
  {
   "cell_type": "markdown",
   "id": "30e6949d-71d4-4def-8664-4283c55a3db2",
   "metadata": {},
   "source": [
    "___"
   ]
  },
  {
   "cell_type": "markdown",
   "id": "be07ccf9-38cc-494c-9c64-c94634a40ab3",
   "metadata": {},
   "source": [
    "## Common Maintenance"
   ]
  },
  {
   "cell_type": "markdown",
   "id": "e3255b0c-b0d2-4f6a-97fe-4d92e9599419",
   "metadata": {},
   "source": [
    "```\n",
    "# See what is installed\n",
    "conda list\n",
    "\n",
    "# Update everything\n",
    "conda update --all\n",
    "\n",
    "# Remove the env completely\n",
    "conda remove -p ./env --all\n",
    "```"
   ]
  },
  {
   "cell_type": "code",
   "execution_count": null,
   "id": "eb706d16-2214-4a3a-89fb-17e37963b44d",
   "metadata": {},
   "outputs": [],
   "source": []
  }
 ],
 "metadata": {
  "kernelspec": {
   "display_name": "Python 3 (ipykernel)",
   "language": "python",
   "name": "python3"
  },
  "language_info": {
   "codemirror_mode": {
    "name": "ipython",
    "version": 3
   },
   "file_extension": ".py",
   "mimetype": "text/x-python",
   "name": "python",
   "nbconvert_exporter": "python",
   "pygments_lexer": "ipython3",
   "version": "3.13.5"
  }
 },
 "nbformat": 4,
 "nbformat_minor": 5
}
