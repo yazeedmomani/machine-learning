{
 "cells": [
  {
   "cell_type": "markdown",
   "id": "9b49958d-24c1-4d1a-baed-dbb1a20eb72c",
   "metadata": {},
   "source": [
    "# Introduction to Scikit-Learn (sklearn)"
   ]
  },
  {
   "cell_type": "markdown",
   "id": "325f4ce6-2b08-4e87-b0e1-2ada30463e37",
   "metadata": {},
   "source": [
    "**Author**: Yazeed al-Momani"
   ]
  },
  {
   "cell_type": "markdown",
   "id": "f24a6df8-5c15-464e-99fa-9f686e6db5c1",
   "metadata": {},
   "source": [
    "___"
   ]
  },
  {
   "cell_type": "markdown",
   "id": "cb0d94ec-ada6-49f4-94b2-bc11bef94570",
   "metadata": {},
   "source": [
    "## Why Scikit-Learn?"
   ]
  },
  {
   "cell_type": "markdown",
   "id": "b04209fe-f0ce-49de-9196-689b5c41aa8a",
   "metadata": {},
   "source": [
    "1. Built on NumPy and Matplotlib. (and python)\n",
    "2. Has many built-in machine learning models\n",
    "3. Has methods to evaluate your machine learning models\n",
    "4. Very well-designed API"
   ]
  },
  {
   "cell_type": "markdown",
   "id": "1922e072-2ac4-4235-88ae-82648db95c45",
   "metadata": {},
   "source": [
    "## Refresher: Machine Learning"
   ]
  },
  {
   "cell_type": "markdown",
   "id": "d0054ff0-a435-4350-8e7a-b1e8fd40eb35",
   "metadata": {},
   "source": [
    "* Computer doesn't know anything. You need to teach it.\n",
    "* Normal vs Machine Learning\n",
    "|   |Developer|Result|\n",
    "|:---|:---|:---|\n",
    "|Normal|Input & Algorithm| Output|\n",
    "|Machine Learning|Input & Output| Algorithm (Model)|"
   ]
  },
  {
   "cell_type": "markdown",
   "id": "c9010b3e-ff2e-49ed-ba9b-b70e37d9368f",
   "metadata": {},
   "source": [
    "* Algorithms made by computer are hard for humans to understand\n",
    "* The more complex a model is, the harder it is for humans to understand the algorithms behind it, which raises concerns\n",
    "* Machine Learning basically is the idea of a computer writing it's own algorithm"
   ]
  },
  {
   "cell_type": "markdown",
   "id": "565ed619-a3ee-4f5c-b58c-49360922487d",
   "metadata": {},
   "source": [
    "## Scikit-Learn Workflow"
   ]
  },
  {
   "cell_type": "markdown",
   "id": "747e71fd-2ecc-48b0-b5c0-2ca835a08ebf",
   "metadata": {},
   "source": [
    "1. Prepare data\n",
    "    1. Drop rows where output value is missing\n",
    "    2. Split data into `x` (input) and `y` (output)\n",
    "    3. Split data into training and testing splits (`x_train`, `x_test`, `y_train`, `y_test`)\n",
    "2. Define preprocessor\n",
    "3. Choose estimator\n",
    "4. Create a pipline (preprocessor + estimator)\n",
    "5. Fit pipline on `x_train` and `y_train`\n",
    "6. Evaluate on `x_test` and `y_test`\n",
    "7. Tune with CV and retain best model\n",
    "8. Export pipline"
   ]
  },
  {
   "cell_type": "markdown",
   "id": "43102f3f-dc99-42fa-9d40-0f9c4094cd42",
   "metadata": {},
   "source": [
    "___"
   ]
  },
  {
   "cell_type": "code",
   "execution_count": null,
   "id": "d448a250-6474-4b2d-a612-2fb85bf7d34e",
   "metadata": {},
   "outputs": [],
   "source": []
  }
 ],
 "metadata": {
  "kernelspec": {
   "display_name": "Python 3 (ipykernel)",
   "language": "python",
   "name": "python3"
  },
  "language_info": {
   "codemirror_mode": {
    "name": "ipython",
    "version": 3
   },
   "file_extension": ".py",
   "mimetype": "text/x-python",
   "name": "python",
   "nbconvert_exporter": "python",
   "pygments_lexer": "ipython3",
   "version": "3.13.5"
  }
 },
 "nbformat": 4,
 "nbformat_minor": 5
}
