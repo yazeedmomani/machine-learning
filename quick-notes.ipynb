{
 "cells": [
  {
   "cell_type": "code",
   "execution_count": 1,
   "id": "78a23031-7be1-4669-88df-180842248b81",
   "metadata": {},
   "outputs": [],
   "source": [
    "import numpy as np\n",
    "import pandas as pd\n",
    "import matplotlib.pyplot as plt"
   ]
  },
  {
   "cell_type": "markdown",
   "id": "bca09f56-0d1f-4559-8011-a8ef8050ccf4",
   "metadata": {},
   "source": [
    "## Choose Estimator"
   ]
  },
  {
   "cell_type": "markdown",
   "id": "63cf9b6c-e0e5-423e-9e37-39ede876fb23",
   "metadata": {},
   "source": [
    "**Notes**\n",
    "* Sklearn refers to machine learning models and algorithms as **estimators**\n",
    "* Types of Problems:\n",
    "    * Classification Problem: Predicting a category, ex. heart disease or not, red or blue\n",
    "        * Classification estimators are refered to as `clf`\n",
    "    * Regression Problem: Predicting a number, ex. a price"
   ]
  },
  {
   "cell_type": "markdown",
   "id": "720c4a4d-a3a3-495a-8f5c-25300a859e34",
   "metadata": {},
   "source": [
    "To choose estimator, refer to the below map"
   ]
  },
  {
   "cell_type": "markdown",
   "id": "72f74a32-a367-45dd-81a7-1fdfc07b03f5",
   "metadata": {},
   "source": [
    "<img alt=\"Sklearn Map\" src=\"images/sklearn-map.png\" width=\"80%\"/>"
   ]
  },
  {
   "cell_type": "markdown",
   "id": "23e6c0eb-fee5-4939-88df-e2dac4c14013",
   "metadata": {},
   "source": [
    "If you try a model and it doesn't give you the score you need, try a different model. Choose from the map."
   ]
  },
  {
   "cell_type": "markdown",
   "id": "d9da6079-d86e-44a1-a28a-f6d8659d5499",
   "metadata": {},
   "source": [
    "An **ensemble model** combines the predictions of smaller models into one prediction. Like, taking the advice of 10 doctors instead of one"
   ]
  },
  {
   "cell_type": "markdown",
   "id": "fdfa5d3a-6644-4784-9a60-1c2cb3d1d4e7",
   "metadata": {},
   "source": [
    "A **random forest model** is an ensemble model that puts the input through multiple decision trees (n_estimators = number of trees) each returning a prediction then choose the final prediction based on the majority prediction of the trees."
   ]
  },
  {
   "cell_type": "markdown",
   "id": "1bf9b15c-e4fa-47e7-9606-477f6824afa2",
   "metadata": {},
   "source": [
    "**Note to Self**: Dive deeper into **preprocessors**, **piplines**, and **ColumnTransformer**"
   ]
  },
  {
   "cell_type": "markdown",
   "id": "dd05adce-10b3-4a5e-818c-1eb2953ce6ff",
   "metadata": {},
   "source": [
    "**Tidbit**:\n",
    "* If you are working with structured data, use ensemble models\n",
    "* If you are working with unstructured data, ex. images, use deep learning or transfer learning\n",
    "\n",
    "**Self Note**: What are deep learning and transfer learning?"
   ]
  },
  {
   "cell_type": "markdown",
   "id": "7f34358f-369d-48cd-95bb-a6e8030774a5",
   "metadata": {},
   "source": [
    "___"
   ]
  },
  {
   "cell_type": "markdown",
   "id": "a4453391-9d95-42e9-b09f-4b51c0d0aa43",
   "metadata": {},
   "source": [
    "## Fit a model to data"
   ]
  },
  {
   "cell_type": "markdown",
   "id": "a30cc918-b85b-45a5-99cc-4a47a5f31674",
   "metadata": {},
   "source": [
    "**Note**: Different names for:\n",
    "* `x`: features, features variables, data\n",
    "* `y`: labels, targets, target variables, ground truth"
   ]
  },
  {
   "cell_type": "markdown",
   "id": "3dc9b0ff-7541-43ef-bc7f-654025b0e5b3",
   "metadata": {},
   "source": [
    "**Self Note**: More terms to note? estimators, preprocessors, piplines, etc.? What is a model?"
   ]
  },
  {
   "cell_type": "markdown",
   "id": "25704a8b-8374-42cc-ad66-3c85591af9e0",
   "metadata": {},
   "source": [
    "Fitting a model to data makes the model go through the example data in x_train and their corresponding target in y_train and try to figure out the pattern between them (what combination of data in x_train could lead to this specific value in y_train?) similar to how your brain tries to find pattern in things. As for how it finds the pattern depends on the type of model you choose."
   ]
  },
  {
   "cell_type": "markdown",
   "id": "0ebb736c-c7ce-45ea-ac45-e1cc95602093",
   "metadata": {},
   "source": [
    "___"
   ]
  },
  {
   "cell_type": "markdown",
   "id": "553ba23a-f3a2-4a30-8634-d5a424afcedb",
   "metadata": {},
   "source": [
    "## Use the model to predict"
   ]
  },
  {
   "cell_type": "markdown",
   "id": "72588fdc-5440-4aba-9882-fabe939e7c59",
   "metadata": {},
   "source": [
    "Two ways of predicting:\n",
    "1. `predict()`\n",
    "2. `predict_proba()`"
   ]
  },
  {
   "cell_type": "markdown",
   "id": "18f37d8d-a37b-48ad-8cae-0af919a0fcd2",
   "metadata": {},
   "source": [
    "The model needs to be passed the exact same data structure it trained on in order to predict"
   ]
  },
  {
   "cell_type": "markdown",
   "id": "2b6d08bb-8da0-4ae7-afdd-357d57b45e64",
   "metadata": {},
   "source": [
    "We compare the ground truth `y_test` to the predicted value to see how accurate the prediction was, this will help us evaluate the model"
   ]
  },
  {
   "cell_type": "markdown",
   "id": "6364859e-4b97-4165-a55d-14a805ca0712",
   "metadata": {},
   "source": [
    "**Trying to confirm a theory...**  \n",
    "Does setting the random seed make the model score fixed?"
   ]
  },
  {
   "cell_type": "code",
   "execution_count": 10,
   "id": "54bd9ce4-dc51-4d50-a0a9-f12628e4d0a9",
   "metadata": {},
   "outputs": [
    {
     "data": {
      "text/html": [
       "<div>\n",
       "<style scoped>\n",
       "    .dataframe tbody tr th:only-of-type {\n",
       "        vertical-align: middle;\n",
       "    }\n",
       "\n",
       "    .dataframe tbody tr th {\n",
       "        vertical-align: top;\n",
       "    }\n",
       "\n",
       "    .dataframe thead th {\n",
       "        text-align: right;\n",
       "    }\n",
       "</style>\n",
       "<table border=\"1\" class=\"dataframe\">\n",
       "  <thead>\n",
       "    <tr style=\"text-align: right;\">\n",
       "      <th></th>\n",
       "      <th>MedInc</th>\n",
       "      <th>HouseAge</th>\n",
       "      <th>AveRooms</th>\n",
       "      <th>AveBedrms</th>\n",
       "      <th>Population</th>\n",
       "      <th>AveOccup</th>\n",
       "      <th>Latitude</th>\n",
       "      <th>Longitude</th>\n",
       "    </tr>\n",
       "  </thead>\n",
       "  <tbody>\n",
       "    <tr>\n",
       "      <th>0</th>\n",
       "      <td>8.3252</td>\n",
       "      <td>41.0</td>\n",
       "      <td>6.984127</td>\n",
       "      <td>1.023810</td>\n",
       "      <td>322.0</td>\n",
       "      <td>2.555556</td>\n",
       "      <td>37.88</td>\n",
       "      <td>-122.23</td>\n",
       "    </tr>\n",
       "    <tr>\n",
       "      <th>1</th>\n",
       "      <td>8.3014</td>\n",
       "      <td>21.0</td>\n",
       "      <td>6.238137</td>\n",
       "      <td>0.971880</td>\n",
       "      <td>2401.0</td>\n",
       "      <td>2.109842</td>\n",
       "      <td>37.86</td>\n",
       "      <td>-122.22</td>\n",
       "    </tr>\n",
       "    <tr>\n",
       "      <th>2</th>\n",
       "      <td>7.2574</td>\n",
       "      <td>52.0</td>\n",
       "      <td>8.288136</td>\n",
       "      <td>1.073446</td>\n",
       "      <td>496.0</td>\n",
       "      <td>2.802260</td>\n",
       "      <td>37.85</td>\n",
       "      <td>-122.24</td>\n",
       "    </tr>\n",
       "    <tr>\n",
       "      <th>3</th>\n",
       "      <td>5.6431</td>\n",
       "      <td>52.0</td>\n",
       "      <td>5.817352</td>\n",
       "      <td>1.073059</td>\n",
       "      <td>558.0</td>\n",
       "      <td>2.547945</td>\n",
       "      <td>37.85</td>\n",
       "      <td>-122.25</td>\n",
       "    </tr>\n",
       "    <tr>\n",
       "      <th>4</th>\n",
       "      <td>3.8462</td>\n",
       "      <td>52.0</td>\n",
       "      <td>6.281853</td>\n",
       "      <td>1.081081</td>\n",
       "      <td>565.0</td>\n",
       "      <td>2.181467</td>\n",
       "      <td>37.85</td>\n",
       "      <td>-122.25</td>\n",
       "    </tr>\n",
       "    <tr>\n",
       "      <th>...</th>\n",
       "      <td>...</td>\n",
       "      <td>...</td>\n",
       "      <td>...</td>\n",
       "      <td>...</td>\n",
       "      <td>...</td>\n",
       "      <td>...</td>\n",
       "      <td>...</td>\n",
       "      <td>...</td>\n",
       "    </tr>\n",
       "    <tr>\n",
       "      <th>20635</th>\n",
       "      <td>1.5603</td>\n",
       "      <td>25.0</td>\n",
       "      <td>5.045455</td>\n",
       "      <td>1.133333</td>\n",
       "      <td>845.0</td>\n",
       "      <td>2.560606</td>\n",
       "      <td>39.48</td>\n",
       "      <td>-121.09</td>\n",
       "    </tr>\n",
       "    <tr>\n",
       "      <th>20636</th>\n",
       "      <td>2.5568</td>\n",
       "      <td>18.0</td>\n",
       "      <td>6.114035</td>\n",
       "      <td>1.315789</td>\n",
       "      <td>356.0</td>\n",
       "      <td>3.122807</td>\n",
       "      <td>39.49</td>\n",
       "      <td>-121.21</td>\n",
       "    </tr>\n",
       "    <tr>\n",
       "      <th>20637</th>\n",
       "      <td>1.7000</td>\n",
       "      <td>17.0</td>\n",
       "      <td>5.205543</td>\n",
       "      <td>1.120092</td>\n",
       "      <td>1007.0</td>\n",
       "      <td>2.325635</td>\n",
       "      <td>39.43</td>\n",
       "      <td>-121.22</td>\n",
       "    </tr>\n",
       "    <tr>\n",
       "      <th>20638</th>\n",
       "      <td>1.8672</td>\n",
       "      <td>18.0</td>\n",
       "      <td>5.329513</td>\n",
       "      <td>1.171920</td>\n",
       "      <td>741.0</td>\n",
       "      <td>2.123209</td>\n",
       "      <td>39.43</td>\n",
       "      <td>-121.32</td>\n",
       "    </tr>\n",
       "    <tr>\n",
       "      <th>20639</th>\n",
       "      <td>2.3886</td>\n",
       "      <td>16.0</td>\n",
       "      <td>5.254717</td>\n",
       "      <td>1.162264</td>\n",
       "      <td>1387.0</td>\n",
       "      <td>2.616981</td>\n",
       "      <td>39.37</td>\n",
       "      <td>-121.24</td>\n",
       "    </tr>\n",
       "  </tbody>\n",
       "</table>\n",
       "<p>20640 rows × 8 columns</p>\n",
       "</div>"
      ],
      "text/plain": [
       "       MedInc  HouseAge  AveRooms  AveBedrms  Population  AveOccup  Latitude  \\\n",
       "0      8.3252      41.0  6.984127   1.023810       322.0  2.555556     37.88   \n",
       "1      8.3014      21.0  6.238137   0.971880      2401.0  2.109842     37.86   \n",
       "2      7.2574      52.0  8.288136   1.073446       496.0  2.802260     37.85   \n",
       "3      5.6431      52.0  5.817352   1.073059       558.0  2.547945     37.85   \n",
       "4      3.8462      52.0  6.281853   1.081081       565.0  2.181467     37.85   \n",
       "...       ...       ...       ...        ...         ...       ...       ...   \n",
       "20635  1.5603      25.0  5.045455   1.133333       845.0  2.560606     39.48   \n",
       "20636  2.5568      18.0  6.114035   1.315789       356.0  3.122807     39.49   \n",
       "20637  1.7000      17.0  5.205543   1.120092      1007.0  2.325635     39.43   \n",
       "20638  1.8672      18.0  5.329513   1.171920       741.0  2.123209     39.43   \n",
       "20639  2.3886      16.0  5.254717   1.162264      1387.0  2.616981     39.37   \n",
       "\n",
       "       Longitude  \n",
       "0        -122.23  \n",
       "1        -122.22  \n",
       "2        -122.24  \n",
       "3        -122.25  \n",
       "4        -122.25  \n",
       "...          ...  \n",
       "20635    -121.09  \n",
       "20636    -121.21  \n",
       "20637    -121.22  \n",
       "20638    -121.32  \n",
       "20639    -121.24  \n",
       "\n",
       "[20640 rows x 8 columns]"
      ]
     },
     "execution_count": 10,
     "metadata": {},
     "output_type": "execute_result"
    }
   ],
   "source": [
    "from sklearn.datasets import fetch_california_housing\n",
    "california_housing = fetch_california_housing()\n",
    "x = pd.DataFrame(california_housing.data, columns=california_housing.feature_names)\n",
    "\n",
    "x"
   ]
  },
  {
   "cell_type": "code",
   "execution_count": 18,
   "id": "0c7993a0-6822-4fb9-b710-d80350baac6c",
   "metadata": {},
   "outputs": [
    {
     "data": {
      "text/plain": [
       "0        4.526\n",
       "1        3.585\n",
       "2        3.521\n",
       "3        3.413\n",
       "4        3.422\n",
       "         ...  \n",
       "20635    0.781\n",
       "20636    0.771\n",
       "20637    0.923\n",
       "20638    0.847\n",
       "20639    0.894\n",
       "Length: 20640, dtype: float64"
      ]
     },
     "execution_count": 18,
     "metadata": {},
     "output_type": "execute_result"
    }
   ],
   "source": [
    "y = pd.Series(california_housing.target)\n",
    "\n",
    "y"
   ]
  },
  {
   "cell_type": "code",
   "execution_count": 19,
   "id": "6e053999-a3bf-4e86-81d5-a28d5c375755",
   "metadata": {},
   "outputs": [
    {
     "data": {
      "text/plain": [
       "0.8113492879523005"
      ]
     },
     "execution_count": 19,
     "metadata": {},
     "output_type": "execute_result"
    }
   ],
   "source": [
    "from sklearn.model_selection import train_test_split\n",
    "x_train, x_test, y_train, y_test = train_test_split(x, y, test_size=0.2)\n",
    "\n",
    "from sklearn.ensemble import RandomForestRegressor\n",
    "model = RandomForestRegressor()\n",
    "model.fit(x_train, y_train)\n",
    "\n",
    "model.score(x_test, y_test)"
   ]
  },
  {
   "cell_type": "code",
   "execution_count": 22,
   "id": "92f84d36-a503-43dd-82a0-b45417b3299b",
   "metadata": {},
   "outputs": [
    {
     "data": {
      "text/plain": [
       "0.8113492879523005"
      ]
     },
     "execution_count": 22,
     "metadata": {},
     "output_type": "execute_result"
    }
   ],
   "source": [
    "# Scoring again\n",
    "model.score(x_test, y_test)"
   ]
  },
  {
   "cell_type": "markdown",
   "id": "efa218f5-30d6-421d-af98-add27e6c220b",
   "metadata": {},
   "source": [
    "Okay..."
   ]
  },
  {
   "cell_type": "code",
   "execution_count": 23,
   "id": "019edaa5-aa00-46e3-9fa5-28899b4f4822",
   "metadata": {},
   "outputs": [
    {
     "data": {
      "text/plain": [
       "0.8129310591248636"
      ]
     },
     "execution_count": 23,
     "metadata": {},
     "output_type": "execute_result"
    }
   ],
   "source": [
    "# Fit again\n",
    "model.fit(x_train, y_train)\n",
    "model.score(x_test, y_test)"
   ]
  },
  {
   "cell_type": "code",
   "execution_count": 24,
   "id": "83c2c927-801a-425c-adcb-8da2602dbc62",
   "metadata": {},
   "outputs": [
    {
     "data": {
      "text/plain": [
       "0.8113784828959737"
      ]
     },
     "execution_count": 24,
     "metadata": {},
     "output_type": "execute_result"
    }
   ],
   "source": [
    "# Aha, let's try again\n",
    "model.fit(x_train, y_train)\n",
    "model.score(x_test, y_test)"
   ]
  },
  {
   "cell_type": "markdown",
   "id": "94f5959e-4945-4bb8-9b21-9d78856247ea",
   "metadata": {},
   "source": [
    "Okay, I'll try setting the random seed"
   ]
  },
  {
   "cell_type": "code",
   "execution_count": 26,
   "id": "9843bf62-9787-4801-a087-3b5787390d16",
   "metadata": {},
   "outputs": [
    {
     "data": {
      "text/plain": [
       "0.8124166785360362"
      ]
     },
     "execution_count": 26,
     "metadata": {},
     "output_type": "execute_result"
    }
   ],
   "source": [
    "np.random.seed(42)\n",
    "model.fit(x_train, y_train)\n",
    "model.score(x_test, y_test)"
   ]
  },
  {
   "cell_type": "code",
   "execution_count": 27,
   "id": "af721476-a7d5-4f35-8e4a-f4f141170d8b",
   "metadata": {},
   "outputs": [
    {
     "data": {
      "text/plain": [
       "0.810691739062182"
      ]
     },
     "execution_count": 27,
     "metadata": {},
     "output_type": "execute_result"
    }
   ],
   "source": [
    "# Now again...\n",
    "model.fit(x_train, y_train)\n",
    "model.score(x_test, y_test)"
   ]
  },
  {
   "cell_type": "markdown",
   "id": "a3f0a5df-a111-48e8-bebc-8077d76ea787",
   "metadata": {},
   "source": [
    "Hmm... what if I set seed on every block"
   ]
  },
  {
   "cell_type": "code",
   "execution_count": 28,
   "id": "c1cfda6c-679d-441a-890d-a9aaa09d5e8c",
   "metadata": {},
   "outputs": [
    {
     "data": {
      "text/plain": [
       "0.8124166785360362"
      ]
     },
     "execution_count": 28,
     "metadata": {},
     "output_type": "execute_result"
    }
   ],
   "source": [
    "np.random.seed(42)\n",
    "model.fit(x_train, y_train)\n",
    "model.score(x_test, y_test)"
   ]
  },
  {
   "cell_type": "code",
   "execution_count": 29,
   "id": "1b7bb77d-c9df-48e7-89be-571c9a9b513b",
   "metadata": {},
   "outputs": [
    {
     "data": {
      "text/plain": [
       "0.8124166785360362"
      ]
     },
     "execution_count": 29,
     "metadata": {},
     "output_type": "execute_result"
    }
   ],
   "source": [
    "# Again\n",
    "np.random.seed(42)\n",
    "model.fit(x_train, y_train)\n",
    "model.score(x_test, y_test)"
   ]
  },
  {
   "cell_type": "markdown",
   "id": "0d231ec0-b941-4ce3-b107-4a2ece1b24e0",
   "metadata": {},
   "source": [
    "**Theory Confirmed**  \n",
    "Setting the random seed will train the model the same way always, making it give the same score no matter how many times you retrain it. This should help when writing notes in jupyter notebook and returning to it later, since I'll have to rerun the cells."
   ]
  },
  {
   "cell_type": "markdown",
   "id": "39e6e089-d7e8-453a-bff2-04bbb8050540",
   "metadata": {},
   "source": [
    "  "
   ]
  },
  {
   "cell_type": "markdown",
   "id": "70ebf04b-844b-4fba-b399-62c3494f87f0",
   "metadata": {},
   "source": [
    "**predict vs predict_proba**  \n",
    "`predict` will return a new target column with the models guessed values.  \n",
    "`predict_proba` gives you, for each row of data, the probability of each output being true, so if the output is either 0 or 1, then it will give you the probability of this record's output being 0 and the probability of this record's output being 1.  \n",
    "\n",
    "`predict_proba` will help us know whether the model was confident of it's answers, i.e. very high probability vs very low probability, or it wasn't confident of it's answer, i.e. almost equal probabilities but one output was the highest so it won."
   ]
  },
  {
   "cell_type": "markdown",
   "id": "545c2666-9365-4e3e-a96e-82692940fdd7",
   "metadata": {},
   "source": [
    "___"
   ]
  },
  {
   "cell_type": "markdown",
   "id": "0f3b4aca-b4f4-491a-baf1-97023c635abc",
   "metadata": {},
   "source": [
    "## Evaluating the model"
   ]
  },
  {
   "cell_type": "markdown",
   "id": "0ad2d0bc-fcd0-4a24-a7fe-b4cb8ff5c610",
   "metadata": {},
   "source": [
    "Three ways to evaluate a model:  \n",
    "1. Estimator's built-in `score()` method\n",
    "2. The `scoring` parameter\n",
    "3. Problem-specific metric functions"
   ]
  },
  {
   "cell_type": "markdown",
   "id": "6954fa0e-6a59-4c98-9bc1-670470c718b1",
   "metadata": {},
   "source": [
    "### Cross-Validation"
   ]
  },
  {
   "cell_type": "markdown",
   "id": "d4b2f743-d369-4ea6-8c17-0140e14da384",
   "metadata": {},
   "source": [
    "`cross_val_score()` takes 4 main parameters:  \n",
    "1. the estimator\n",
    "2. x (entire x)\n",
    "3. y (entire y)\n",
    "4. cv: number of folds, default 5"
   ]
  },
  {
   "cell_type": "markdown",
   "id": "c8b93780-22cf-4c8b-9b9f-3510658a0b59",
   "metadata": {},
   "source": [
    "#### What it does:\n",
    "1. Splits `x` and `y` into 5 equal splits called \"folds\"\n",
    "2. Trains the model on 4 folds, tests it on the 5th, then scores it\n",
    "3. Repeats the process using a different fold as the test set\n",
    "4. Continues until it has used all folds as the test set\n",
    "5. Return an array containing all scores"
   ]
  },
  {
   "cell_type": "markdown",
   "id": "bb071abf-6ccd-4f76-b0a9-6cf094e38d3f",
   "metadata": {},
   "source": [
    "#### What you can do:\n",
    "* You can take the average of all scores to evaluate the model\n",
    "* Change the number of folds by specifying `cv`"
   ]
  },
  {
   "cell_type": "markdown",
   "id": "e9031539-8a36-4459-942c-2ea6460849da",
   "metadata": {},
   "source": [
    "#### Why use it?\n",
    "Because one test split might give you a biased result. Using multiple splits for testing gives us a more reliable and fairer evaluation."
   ]
  },
  {
   "cell_type": "markdown",
   "id": "4cdcf5c1-ba95-42df-8ef5-26eba3989535",
   "metadata": {},
   "source": [
    "### Classification Model Evaluation Metrics"
   ]
  },
  {
   "cell_type": "markdown",
   "id": "d5e7dad0-dbca-4133-b379-6423a9f335fa",
   "metadata": {},
   "source": [
    "```mermaid\n",
    "graph LR\n",
    "A((Accuracy)) --- B\n",
    "B((Area under ROC curve)) --- C\n",
    "C((Confusion matrix)) --- D\n",
    "D((Classification report))\n",
    "```"
   ]
  },
  {
   "cell_type": "markdown",
   "id": "15145cca-29af-466e-9be0-44581b2f619a",
   "metadata": {},
   "source": [
    "#### Accuracy"
   ]
  },
  {
   "cell_type": "markdown",
   "id": "9f5faddd-e889-478f-87c7-77bd15edb208",
   "metadata": {},
   "source": [
    "Same what we've been using so far"
   ]
  },
  {
   "cell_type": "markdown",
   "id": "9f67b800-408d-4208-9e99-85e366c7c80e",
   "metadata": {},
   "source": [
    "#### Area Under The Receiver Operating Characteristic Curve (AUC/ROC)"
   ]
  },
  {
   "cell_type": "code",
   "execution_count": null,
   "id": "f588f922-a65c-4d96-bc59-35fefa061e59",
   "metadata": {},
   "outputs": [],
   "source": []
  }
 ],
 "metadata": {
  "kernelspec": {
   "display_name": "Python 3 (ipykernel)",
   "language": "python",
   "name": "python3"
  },
  "language_info": {
   "codemirror_mode": {
    "name": "ipython",
    "version": 3
   },
   "file_extension": ".py",
   "mimetype": "text/x-python",
   "name": "python",
   "nbconvert_exporter": "python",
   "pygments_lexer": "ipython3",
   "version": "3.13.5"
  }
 },
 "nbformat": 4,
 "nbformat_minor": 5
}
