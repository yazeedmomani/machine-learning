{
 "cells": [
  {
   "cell_type": "markdown",
   "id": "9df60ab6-d2ce-403e-973c-fcd0b50ef089",
   "metadata": {},
   "source": [
    "# Introduction to NumPy"
   ]
  },
  {
   "cell_type": "markdown",
   "id": "72081132-a52d-4259-b4dd-780ccff63e82",
   "metadata": {},
   "source": [
    "**Author**: Yazeed al-Momani"
   ]
  },
  {
   "cell_type": "markdown",
   "id": "6327f6b0-bd15-42b7-8eed-22374e828834",
   "metadata": {},
   "source": [
    "## 1. Foundations"
   ]
  },
  {
   "cell_type": "markdown",
   "id": "45b51760-4bbc-4735-919c-85512ec14fcb",
   "metadata": {},
   "source": [
    "### 1.1 What is NumPy & why use it?\n",
    "NumPy is a Python library for fast numerical computations. Compared to Python lists:\n",
    "* It is faster because it uses C under the hood.\n",
    "* It is more memory efficient.\n",
    "* It has built-in math, matrix, and statistical functions."
   ]
  },
  {
   "cell_type": "markdown",
   "id": "5904743b-d02a-4971-8648-dc91e47d0af7",
   "metadata": {},
   "source": [
    "### 1.2 Importing"
   ]
  },
  {
   "cell_type": "code",
   "execution_count": 1,
   "id": "98ab2201-567c-4130-8cf7-9ae1f7e919b5",
   "metadata": {},
   "outputs": [],
   "source": [
    "import numpy as np"
   ]
  },
  {
   "cell_type": "markdown",
   "id": "6f6b2a55-b0c4-4818-907c-e84a2c9382e0",
   "metadata": {},
   "source": [
    "### 1.3 Creating arrays with `np.array()`\n",
    "NumPy arrays are called ndarray objects where n stands for the number of dimensions."
   ]
  },
  {
   "cell_type": "markdown",
   "id": "5f8f099f-c2be-4fb4-b341-8ea93ce19cb5",
   "metadata": {},
   "source": [
    "#### 1.3.1 1D Array\n",
    "Normal list"
   ]
  },
  {
   "cell_type": "code",
   "execution_count": 28,
   "id": "e31f81a1-61cf-4f69-a718-e04b71d3763e",
   "metadata": {},
   "outputs": [],
   "source": [
    "arr1d = np.array([1, 2, 3, 4])"
   ]
  },
  {
   "cell_type": "markdown",
   "id": "4fa98488-c8a0-4852-a843-596373491b2e",
   "metadata": {},
   "source": [
    "#### 1.3.2 2D Array\n",
    "List of lists"
   ]
  },
  {
   "cell_type": "code",
   "execution_count": 29,
   "id": "2326795d-bd9e-42fb-92ae-6811274de644",
   "metadata": {},
   "outputs": [],
   "source": [
    "arr2d = np.array([[1, 2, 3], [4, 5, 6]])"
   ]
  },
  {
   "cell_type": "markdown",
   "id": "35af193b-8d97-4fc8-b6d0-eb21922c8525",
   "metadata": {},
   "source": [
    "#### 1.3.3 3D Array and more\n",
    "List of lists of lists... and so on"
   ]
  },
  {
   "cell_type": "code",
   "execution_count": 30,
   "id": "3ce1591e-eda8-4fb6-86c1-ec751346e88d",
   "metadata": {},
   "outputs": [],
   "source": [
    "arr3d = np.array([[[1, 2], [3, 4]], [[5, 6], [7,8]]])"
   ]
  },
  {
   "cell_type": "markdown",
   "id": "8ea6e72e-3578-4823-ade6-af8b9e4c398b",
   "metadata": {},
   "source": [
    "### 1.4 Array attributes\n",
    "\n",
    "#### 1.4.1 shape\n",
    "Outputs array dimensions"
   ]
  },
  {
   "cell_type": "code",
   "execution_count": 12,
   "id": "9b538007-12c2-4fc2-b402-97a1fe657b6d",
   "metadata": {},
   "outputs": [
    {
     "data": {
      "text/plain": [
       "(4,)"
      ]
     },
     "execution_count": 12,
     "metadata": {},
     "output_type": "execute_result"
    }
   ],
   "source": [
    "# (length, )\n",
    "arr1d.shape"
   ]
  },
  {
   "cell_type": "code",
   "execution_count": 13,
   "id": "f45cb9a9-125f-4680-8af0-0af54e826616",
   "metadata": {},
   "outputs": [
    {
     "data": {
      "text/plain": [
       "(2, 3)"
      ]
     },
     "execution_count": 13,
     "metadata": {},
     "output_type": "execute_result"
    }
   ],
   "source": [
    "# (rows, columns)\n",
    "arr2d.shape"
   ]
  },
  {
   "cell_type": "code",
   "execution_count": 14,
   "id": "7b7a4173-f5ca-4e49-b1da-c1667ab52c8e",
   "metadata": {},
   "outputs": [
    {
     "data": {
      "text/plain": [
       "(2, 2, 2)"
      ]
     },
     "execution_count": 14,
     "metadata": {},
     "output_type": "execute_result"
    }
   ],
   "source": [
    "# (blocks, rows, columns)\n",
    "arr3d.shape"
   ]
  },
  {
   "cell_type": "markdown",
   "id": "395a0818-f02c-4423-bd80-9917fe6aee01",
   "metadata": {},
   "source": [
    "#### 1.4.2 ndim\n",
    "Outputs number of dimensions"
   ]
  },
  {
   "cell_type": "code",
   "execution_count": 16,
   "id": "25344046-8c68-425b-a2a2-461db39971fa",
   "metadata": {},
   "outputs": [
    {
     "data": {
      "text/plain": [
       "1"
      ]
     },
     "execution_count": 16,
     "metadata": {},
     "output_type": "execute_result"
    }
   ],
   "source": [
    "arr1d.ndim"
   ]
  },
  {
   "cell_type": "code",
   "execution_count": 17,
   "id": "efd49194-a096-409d-9404-1a5e64175c62",
   "metadata": {},
   "outputs": [
    {
     "data": {
      "text/plain": [
       "2"
      ]
     },
     "execution_count": 17,
     "metadata": {},
     "output_type": "execute_result"
    }
   ],
   "source": [
    "arr2d.ndim"
   ]
  },
  {
   "cell_type": "code",
   "execution_count": 18,
   "id": "9ffbe655-f3cd-4835-b98a-8e41ac323c6b",
   "metadata": {},
   "outputs": [
    {
     "data": {
      "text/plain": [
       "3"
      ]
     },
     "execution_count": 18,
     "metadata": {},
     "output_type": "execute_result"
    }
   ],
   "source": [
    "arr3d.ndim"
   ]
  },
  {
   "cell_type": "markdown",
   "id": "3f7ff998-7b35-4f75-b7e7-7baca451c3dc",
   "metadata": {},
   "source": [
    "#### 1.4.3 dtype\n",
    "Outputs data type of elements"
   ]
  },
  {
   "cell_type": "code",
   "execution_count": 19,
   "id": "15626e56-5f85-4d89-acef-471e4ab2750f",
   "metadata": {},
   "outputs": [
    {
     "data": {
      "text/plain": [
       "dtype('int64')"
      ]
     },
     "execution_count": 19,
     "metadata": {},
     "output_type": "execute_result"
    }
   ],
   "source": [
    "arr1d.dtype"
   ]
  },
  {
   "cell_type": "markdown",
   "id": "63d15d58-4e40-421f-83f9-ba161f5ea350",
   "metadata": {},
   "source": [
    "#### 1.4.4 size\n",
    "Outputs total number of elements"
   ]
  },
  {
   "cell_type": "code",
   "execution_count": 24,
   "id": "cc0a8ab1-041a-4238-9d0a-e158b6324187",
   "metadata": {},
   "outputs": [
    {
     "data": {
      "text/plain": [
       "4"
      ]
     },
     "execution_count": 24,
     "metadata": {},
     "output_type": "execute_result"
    }
   ],
   "source": [
    "arr1d.size"
   ]
  },
  {
   "cell_type": "code",
   "execution_count": 25,
   "id": "1b6a46c4-523b-4c0a-bc48-701eac764c0d",
   "metadata": {},
   "outputs": [
    {
     "data": {
      "text/plain": [
       "6"
      ]
     },
     "execution_count": 25,
     "metadata": {},
     "output_type": "execute_result"
    }
   ],
   "source": [
    "arr2d.size"
   ]
  },
  {
   "cell_type": "code",
   "execution_count": 26,
   "id": "e37c29d6-0ef9-42eb-a571-1a5e0dbee41e",
   "metadata": {},
   "outputs": [
    {
     "data": {
      "text/plain": [
       "8"
      ]
     },
     "execution_count": 26,
     "metadata": {},
     "output_type": "execute_result"
    }
   ],
   "source": [
    "arr3d.size"
   ]
  },
  {
   "cell_type": "markdown",
   "id": "7c9f2d98-e1d3-4bad-8040-94939917eee3",
   "metadata": {},
   "source": [
    "#### 1.4.5 Python type\n",
    "This is just to see the type of these arrays"
   ]
  },
  {
   "cell_type": "code",
   "execution_count": 31,
   "id": "d79999da-ef98-4ce8-9ed2-fd31c9c89595",
   "metadata": {},
   "outputs": [
    {
     "data": {
      "text/plain": [
       "numpy.ndarray"
      ]
     },
     "execution_count": 31,
     "metadata": {},
     "output_type": "execute_result"
    }
   ],
   "source": [
    "type(arr1d)"
   ]
  },
  {
   "cell_type": "markdown",
   "id": "50f16c33-03c5-4398-83fe-1f3a8e14b5b7",
   "metadata": {},
   "source": [
    "## 2. Array Creation Shortcuts\n",
    "Instead of manually typing lists everytime. NumPy gives you shortcuts for creating arrays.\n",
    "\n",
    "### 2.1 Arrays of zeros & ones"
   ]
  },
  {
   "cell_type": "code",
   "execution_count": 37,
   "id": "80bf23a9-d6b6-4af8-9af1-cd53f6eaf640",
   "metadata": {},
   "outputs": [
    {
     "data": {
      "text/plain": [
       "array([[1., 1.],\n",
       "       [1., 1.],\n",
       "       [1., 1.],\n",
       "       [1., 1.],\n",
       "       [1., 1.]])"
      ]
     },
     "execution_count": 37,
     "metadata": {},
     "output_type": "execute_result"
    }
   ],
   "source": [
    "# All ones, shape (5, 2)\n",
    "arr_ones = np.ones((5, 2))\n",
    "\n",
    "arr_ones"
   ]
  },
  {
   "cell_type": "code",
   "execution_count": 36,
   "id": "cdb17ec5-21e4-47ad-8c28-e480849750c9",
   "metadata": {},
   "outputs": [
    {
     "data": {
      "text/plain": [
       "array([[[0., 0., 0.],\n",
       "        [0., 0., 0.]],\n",
       "\n",
       "       [[0., 0., 0.],\n",
       "        [0., 0., 0.]],\n",
       "\n",
       "       [[0., 0., 0.],\n",
       "        [0., 0., 0.]],\n",
       "\n",
       "       [[0., 0., 0.],\n",
       "        [0., 0., 0.]]])"
      ]
     },
     "execution_count": 36,
     "metadata": {},
     "output_type": "execute_result"
    }
   ],
   "source": [
    "# All zeros, shape (4, 2, 3)\n",
    "arr_zeros = np.zeros((4, 2, 3))\n",
    "\n",
    "arr_zeros"
   ]
  },
  {
   "cell_type": "markdown",
   "id": "5fe763c4-6f75-44be-830e-3f912b55331e",
   "metadata": {},
   "source": [
    "### 2.2 Array from a range\n",
    "Similar to Python's `range()`, but returns an ndarray"
   ]
  },
  {
   "cell_type": "code",
   "execution_count": 46,
   "id": "b1e7645b-0522-4a6d-8f03-61b26f752080",
   "metadata": {},
   "outputs": [
    {
     "data": {
      "text/plain": [
       "array([ 0,  5, 10, 15, 20, 25, 30, 35, 40, 45, 50, 55, 60, 65, 70, 75, 80,\n",
       "       85, 90, 95])"
      ]
     },
     "execution_count": 46,
     "metadata": {},
     "output_type": "execute_result"
    }
   ],
   "source": [
    "# From 0 to 100 jumping 5 steps.\n",
    "arr_range = np.arange(0, 100, 5)\n",
    "\n",
    "arr_range"
   ]
  },
  {
   "cell_type": "markdown",
   "id": "3d2fe6f3-ec27-4b21-a413-ac3b8c809b8d",
   "metadata": {},
   "source": [
    "### 2.3 Evenly spaced numbers\n",
    "`linspace` includes the stop value, unlike `arange`"
   ]
  },
  {
   "cell_type": "code",
   "execution_count": 45,
   "id": "c78f4205-3b2d-4258-b2c8-6e110416b0bd",
   "metadata": {},
   "outputs": [
    {
     "data": {
      "text/plain": [
       "array([  0.,  25.,  50.,  75., 100.])"
      ]
     },
     "execution_count": 45,
     "metadata": {},
     "output_type": "execute_result"
    }
   ],
   "source": [
    "# 5 evenly spaced numbers from 0 to 100.\n",
    "arr_linspace = np.linspace(0, 100, 5)\n",
    "\n",
    "arr_linspace"
   ]
  },
  {
   "cell_type": "markdown",
   "id": "05bec220-f142-426d-b936-500464a0db1e",
   "metadata": {},
   "source": [
    "### 2.4 Random integers & floats"
   ]
  },
  {
   "cell_type": "code",
   "execution_count": 47,
   "id": "e6eceaf3-4ee7-4bc5-88c3-37e87653bc0e",
   "metadata": {},
   "outputs": [
    {
     "data": {
      "text/plain": [
       "array([[9, 9, 7, 5],\n",
       "       [7, 0, 5, 7],\n",
       "       [2, 6, 4, 8]])"
      ]
     },
     "execution_count": 47,
     "metadata": {},
     "output_type": "execute_result"
    }
   ],
   "source": [
    "# random integers from 0 to 10, shape (3, 4)\n",
    "rand_int = np.random.randint(0, 10, size=(3, 4))\n",
    "\n",
    "rand_int"
   ]
  },
  {
   "cell_type": "code",
   "execution_count": 49,
   "id": "4e5e5ad6-59ac-413d-867b-90b342d7d80f",
   "metadata": {},
   "outputs": [
    {
     "data": {
      "text/plain": [
       "array([[0.08114117, 0.0278857 , 0.25521376, 0.88551601],\n",
       "       [0.87605716, 0.17801746, 0.78926421, 0.84997492],\n",
       "       [0.73381016, 0.66462584, 0.68842573, 0.55035101]])"
      ]
     },
     "execution_count": 49,
     "metadata": {},
     "output_type": "execute_result"
    }
   ],
   "source": [
    "# random floats from 0 to 1, shape (3, 4). Only accepts size.\n",
    "rand_floats = np.random.random((3, 4))\n",
    "\n",
    "rand_floats"
   ]
  },
  {
   "cell_type": "markdown",
   "id": "6e47a988-0298-4cb1-a263-b80abe26d1d0",
   "metadata": {},
   "source": [
    "### 2.5 Setting a random seed\n",
    "Since the `seed` is set. No matter how much you run the below cell, you will always get the same numbers."
   ]
  },
  {
   "cell_type": "code",
   "execution_count": 51,
   "id": "775569e2-252a-4398-a77c-5a7bfb73bec2",
   "metadata": {},
   "outputs": [
    {
     "data": {
      "text/plain": [
       "array([[6, 3, 7, 4],\n",
       "       [6, 9, 2, 6],\n",
       "       [7, 4, 3, 7]])"
      ]
     },
     "execution_count": 51,
     "metadata": {},
     "output_type": "execute_result"
    }
   ],
   "source": [
    "np.random.seed(42)\n",
    "\n",
    "rand_seed = np.random.randint(0, 10, size=(3, 4))\n",
    "\n",
    "rand_seed"
   ]
  },
  {
   "cell_type": "markdown",
   "id": "5ac5fbcf-36ba-4c71-b6bc-a1cb449ca0ae",
   "metadata": {},
   "source": [
    "### 2.6 Converting NumPy array to Pandas DataFrame"
   ]
  },
  {
   "cell_type": "code",
   "execution_count": 53,
   "id": "e94caaf2-1c95-4681-b51a-ba04362e208c",
   "metadata": {},
   "outputs": [
    {
     "data": {
      "text/html": [
       "<div>\n",
       "<style scoped>\n",
       "    .dataframe tbody tr th:only-of-type {\n",
       "        vertical-align: middle;\n",
       "    }\n",
       "\n",
       "    .dataframe tbody tr th {\n",
       "        vertical-align: top;\n",
       "    }\n",
       "\n",
       "    .dataframe thead th {\n",
       "        text-align: right;\n",
       "    }\n",
       "</style>\n",
       "<table border=\"1\" class=\"dataframe\">\n",
       "  <thead>\n",
       "    <tr style=\"text-align: right;\">\n",
       "      <th></th>\n",
       "      <th>0</th>\n",
       "      <th>1</th>\n",
       "      <th>2</th>\n",
       "      <th>3</th>\n",
       "    </tr>\n",
       "  </thead>\n",
       "  <tbody>\n",
       "    <tr>\n",
       "      <th>0</th>\n",
       "      <td>9</td>\n",
       "      <td>9</td>\n",
       "      <td>7</td>\n",
       "      <td>5</td>\n",
       "    </tr>\n",
       "    <tr>\n",
       "      <th>1</th>\n",
       "      <td>7</td>\n",
       "      <td>0</td>\n",
       "      <td>5</td>\n",
       "      <td>7</td>\n",
       "    </tr>\n",
       "    <tr>\n",
       "      <th>2</th>\n",
       "      <td>2</td>\n",
       "      <td>6</td>\n",
       "      <td>4</td>\n",
       "      <td>8</td>\n",
       "    </tr>\n",
       "  </tbody>\n",
       "</table>\n",
       "</div>"
      ],
      "text/plain": [
       "   0  1  2  3\n",
       "0  9  9  7  5\n",
       "1  7  0  5  7\n",
       "2  2  6  4  8"
      ]
     },
     "execution_count": 53,
     "metadata": {},
     "output_type": "execute_result"
    }
   ],
   "source": [
    "import pandas as pd\n",
    "\n",
    "data = pd.DataFrame(rand_int)\n",
    "\n",
    "data"
   ]
  },
  {
   "cell_type": "markdown",
   "id": "2b75ae40-1aba-4dd4-b9a2-bb29b96f3815",
   "metadata": {},
   "source": [
    "## 3. Indexing & Slicing\n",
    "\n",
    "### 3.1 Basic indexing"
   ]
  },
  {
   "cell_type": "code",
   "execution_count": 55,
   "id": "97b973da-8cd2-4179-91e6-bb75d44ed64d",
   "metadata": {},
   "outputs": [
    {
     "data": {
      "text/plain": [
       "np.int64(8)"
      ]
     },
     "execution_count": 55,
     "metadata": {},
     "output_type": "execute_result"
    }
   ],
   "source": [
    "# Row 2 Column 3\n",
    "rand_int[2, 3]"
   ]
  },
  {
   "cell_type": "markdown",
   "id": "33f0ffbd-17d6-4d71-8fa0-75aa5d9f1e1e",
   "metadata": {},
   "source": [
    "### 3.2 Row & column selection\n",
    "Typing `:` means all values"
   ]
  },
  {
   "cell_type": "code",
   "execution_count": 60,
   "id": "f86aa965-a9d4-43e4-be85-17509c1e04d6",
   "metadata": {},
   "outputs": [
    {
     "data": {
      "text/plain": [
       "array([2, 6, 4, 8])"
      ]
     },
     "execution_count": 60,
     "metadata": {},
     "output_type": "execute_result"
    }
   ],
   "source": [
    "# All values in row 2.\n",
    "rand_int[2, :]"
   ]
  },
  {
   "cell_type": "code",
   "execution_count": 59,
   "id": "bb106329-b428-4ee2-8007-fac3219ffa43",
   "metadata": {},
   "outputs": [
    {
     "data": {
      "text/plain": [
       "array([7, 5, 4])"
      ]
     },
     "execution_count": 59,
     "metadata": {},
     "output_type": "execute_result"
    }
   ],
   "source": [
    "# All values in column 2\n",
    "rand_int[:, 2]"
   ]
  },
  {
   "cell_type": "markdown",
   "id": "087c563d-0345-412e-95fb-2ec1600d9348",
   "metadata": {},
   "source": [
    "### 3.3 Slicing subsets\n",
    "Similar to normal slicing: `Start:Stop`. Stop is exclusive."
   ]
  },
  {
   "cell_type": "code",
   "execution_count": 62,
   "id": "c00b5c3b-ee47-408d-90b3-b86208cc3979",
   "metadata": {},
   "outputs": [
    {
     "data": {
      "text/plain": [
       "array([[9, 9, 7, 5],\n",
       "       [7, 0, 5, 7]])"
      ]
     },
     "execution_count": 62,
     "metadata": {},
     "output_type": "execute_result"
    }
   ],
   "source": [
    "# First 2 rows, all columns\n",
    "rand_int[0:2, :]"
   ]
  },
  {
   "cell_type": "code",
   "execution_count": 63,
   "id": "04df1964-9e65-4e03-bd6f-f8232f12ceaf",
   "metadata": {},
   "outputs": [
    {
     "data": {
      "text/plain": [
       "array([[9, 9],\n",
       "       [7, 0],\n",
       "       [2, 6]])"
      ]
     },
     "execution_count": 63,
     "metadata": {},
     "output_type": "execute_result"
    }
   ],
   "source": [
    "# All rows, first 2 columns\n",
    "rand_int[:, 0:2]"
   ]
  },
  {
   "cell_type": "markdown",
   "id": "5b135a28-e2ec-47ed-8829-cf07d9e9b016",
   "metadata": {},
   "source": [
    "### 3.4 Boolean indexing\n",
    "You can use comparasion operations to filter values."
   ]
  },
  {
   "cell_type": "code",
   "execution_count": 70,
   "id": "ed61dd40-f855-48e4-97cb-6a7d06d38f3f",
   "metadata": {},
   "outputs": [
    {
     "data": {
      "text/plain": [
       "array([[ True,  True, False, False],\n",
       "       [False, False, False, False],\n",
       "       [False, False, False,  True]])"
      ]
     },
     "execution_count": 70,
     "metadata": {},
     "output_type": "execute_result"
    }
   ],
   "source": [
    "# Returns boolean array\n",
    "rand_int > 7"
   ]
  },
  {
   "cell_type": "code",
   "execution_count": 71,
   "id": "d7cfa601-44d5-4f34-9566-32b7843edf44",
   "metadata": {},
   "outputs": [
    {
     "data": {
      "text/plain": [
       "array([9, 9, 8])"
      ]
     },
     "execution_count": 71,
     "metadata": {},
     "output_type": "execute_result"
    }
   ],
   "source": [
    "# Returns array of numbers > 7\n",
    "rand_int[rand_int > 7]"
   ]
  },
  {
   "cell_type": "markdown",
   "id": "9ee54b5e-78d4-4cf6-99c5-f73c6249199f",
   "metadata": {},
   "source": [
    "### 3.5 Unique values\n",
    "Returns sorted unique elements."
   ]
  },
  {
   "cell_type": "code",
   "execution_count": 72,
   "id": "3b04b1d3-138b-45b6-aa65-feddc7768fa1",
   "metadata": {},
   "outputs": [
    {
     "data": {
      "text/plain": [
       "array([0, 2, 4, 5, 6, 7, 8, 9])"
      ]
     },
     "execution_count": 72,
     "metadata": {},
     "output_type": "execute_result"
    }
   ],
   "source": [
    "np.unique(rand_int)"
   ]
  },
  {
   "cell_type": "markdown",
   "id": "364a0641-71ec-4554-a29d-28ccf8ceccb2",
   "metadata": {},
   "source": [
    "## 4. Math & Operations"
   ]
  },
  {
   "cell_type": "markdown",
   "id": "313bda80-5399-4ea8-bb99-fcc7ab9acf90",
   "metadata": {},
   "source": [
    "### 4.1 Element-wise operations\n",
    "Every operation works element-by-element if the shapes match. This is way faster than Python loops."
   ]
  },
  {
   "cell_type": "code",
   "execution_count": 87,
   "id": "721f433b-452e-4559-b5fc-e5eea2d21b84",
   "metadata": {},
   "outputs": [
    {
     "data": {
      "text/plain": [
       "array([[9, 4, 9, 3, 7],\n",
       "       [6, 8, 9, 5, 1],\n",
       "       [3, 8, 6, 8, 9]])"
      ]
     },
     "execution_count": 87,
     "metadata": {},
     "output_type": "execute_result"
    }
   ],
   "source": [
    "# Define arr_x\n",
    "arr_x = np.random.randint(1, 10, size=(3, 5))\n",
    "\n",
    "arr_x"
   ]
  },
  {
   "cell_type": "code",
   "execution_count": 88,
   "id": "e017e9bc-133b-4e79-8596-5ee64f95ef1b",
   "metadata": {},
   "outputs": [
    {
     "data": {
      "text/plain": [
       "array([[4, 1, 1, 4, 7],\n",
       "       [2, 3, 1, 5, 1],\n",
       "       [8, 1, 1, 2, 2]])"
      ]
     },
     "execution_count": 88,
     "metadata": {},
     "output_type": "execute_result"
    }
   ],
   "source": [
    "# Define arr_y\n",
    "arr_y = np.random.randint(1, 10, size=(3, 5))\n",
    "\n",
    "arr_y"
   ]
  },
  {
   "cell_type": "code",
   "execution_count": 89,
   "id": "a3cbb702-c7b6-4f12-9889-173f62fed29f",
   "metadata": {},
   "outputs": [
    {
     "data": {
      "text/plain": [
       "array([[13,  5, 10,  7, 14],\n",
       "       [ 8, 11, 10, 10,  2],\n",
       "       [11,  9,  7, 10, 11]])"
      ]
     },
     "execution_count": 89,
     "metadata": {},
     "output_type": "execute_result"
    }
   ],
   "source": [
    "# Addition\n",
    "arr_x + arr_y"
   ]
  },
  {
   "cell_type": "code",
   "execution_count": 90,
   "id": "459568dd-dbf8-4e0e-8df9-ee04d4e88f34",
   "metadata": {},
   "outputs": [
    {
     "data": {
      "text/plain": [
       "array([[ 5,  3,  8, -1,  0],\n",
       "       [ 4,  5,  8,  0,  0],\n",
       "       [-5,  7,  5,  6,  7]])"
      ]
     },
     "execution_count": 90,
     "metadata": {},
     "output_type": "execute_result"
    }
   ],
   "source": [
    "# Subtraction\n",
    "arr_x - arr_y"
   ]
  },
  {
   "cell_type": "code",
   "execution_count": 91,
   "id": "705cae51-e585-4237-b4ff-b594ff8f1ab0",
   "metadata": {},
   "outputs": [
    {
     "data": {
      "text/plain": [
       "array([[36,  4,  9, 12, 49],\n",
       "       [12, 24,  9, 25,  1],\n",
       "       [24,  8,  6, 16, 18]])"
      ]
     },
     "execution_count": 91,
     "metadata": {},
     "output_type": "execute_result"
    }
   ],
   "source": [
    "# Multiplication\n",
    "arr_x * arr_y"
   ]
  },
  {
   "cell_type": "code",
   "execution_count": 92,
   "id": "a654cb04-d99d-46d3-b360-d5749793cded",
   "metadata": {},
   "outputs": [
    {
     "data": {
      "text/plain": [
       "array([[2.25      , 4.        , 9.        , 0.75      , 1.        ],\n",
       "       [3.        , 2.66666667, 9.        , 1.        , 1.        ],\n",
       "       [0.375     , 8.        , 6.        , 4.        , 4.5       ]])"
      ]
     },
     "execution_count": 92,
     "metadata": {},
     "output_type": "execute_result"
    }
   ],
   "source": [
    "# Division\n",
    "arr_x / arr_y"
   ]
  },
  {
   "cell_type": "markdown",
   "id": "a8c94c20-9612-4823-86c3-a0ddb15c3036",
   "metadata": {},
   "source": [
    "### 4.2 Broadcasting\n",
    "When doing element-wise operation, if shapes don't match exactly, NumPy tries to stretch one of the arrays to fit.\n",
    "\n",
    "**Rules**:\n",
    "* Compare shape numbers from right to left.\n",
    "* Broadcasting succeeds if all compared numbers are **equal** or **one of them is 1**. Otherwise, it fails\n",
    "* During comparasion, numbers 1 will be stretched to become equal to the other number. If both numbers are equal then they remain the same.\n",
    "\n",
    "**Success Example**"
   ]
  },
  {
   "cell_type": "code",
   "execution_count": 96,
   "id": "8246c20f-e159-476d-b642-43911711b438",
   "metadata": {},
   "outputs": [
    {
     "data": {
      "text/plain": [
       "array([[11, 12, 13],\n",
       "       [21, 22, 23]])"
      ]
     },
     "execution_count": 96,
     "metadata": {},
     "output_type": "execute_result"
    }
   ],
   "source": [
    "# Shape (1, 3)\n",
    "a = np.array([1, 2, 3])\n",
    "\n",
    "# Shape (2, 1)\n",
    "b = np.array([[10], [20]])\n",
    "\n",
    "a + b"
   ]
  },
  {
   "cell_type": "markdown",
   "id": "f7224ee6-efaf-42b1-9da7-fa216a06cdef",
   "metadata": {},
   "source": [
    "**Explanation**\n",
    "1. We start with the right most shape numbers.\n",
    "2. 3 vs 1: Fits criteria. Since b has 1, it will stretch to 3 if broadcasting succeeds.\n",
    "3. 1 vs 2: Fits criteria. Since a has 1, it will stretch to 2 if broadcasting succeeds.\n",
    "4. Since both shape numbers match criteria, the broadcasting succeeds and both arrays stretch to match each other.\n",
    "5. Array a's new shape becomes (2, 3): [[1, 2, 3], [1, 2, 3]] (a's row got copied)\n",
    "6. Array b's new shape becomes (2, 3): [[10, 10, 10],[20, 20, 20]] (b's column got copied twice)\n",
    "7. Operation proceeds normally.\n",
    "\n",
    "**Fail Example**"
   ]
  },
  {
   "cell_type": "code",
   "execution_count": 98,
   "id": "226a88b0-6386-4dfc-a44a-a177caa1b3bc",
   "metadata": {},
   "outputs": [
    {
     "ename": "ValueError",
     "evalue": "operands could not be broadcast together with shapes (3,3) (2,1) ",
     "output_type": "error",
     "traceback": [
      "\u001b[31m---------------------------------------------------------------------------\u001b[39m",
      "\u001b[31mValueError\u001b[39m                                Traceback (most recent call last)",
      "\u001b[36mCell\u001b[39m\u001b[36m \u001b[39m\u001b[32mIn[98]\u001b[39m\u001b[32m, line 7\u001b[39m\n\u001b[32m      4\u001b[39m \u001b[38;5;66;03m# Shape (2, 1)\u001b[39;00m\n\u001b[32m      5\u001b[39m b = np.array([[\u001b[32m10\u001b[39m], [\u001b[32m20\u001b[39m]])\n\u001b[32m----> \u001b[39m\u001b[32m7\u001b[39m a + b\n",
      "\u001b[31mValueError\u001b[39m: operands could not be broadcast together with shapes (3,3) (2,1) "
     ]
    }
   ],
   "source": [
    "# Shape (3, 3)\n",
    "a = np.array([[1, 2, 3], [4, 5, 6], [7, 8, 9]])\n",
    "\n",
    "# Shape (2, 1)\n",
    "b = np.array([[10], [20]])\n",
    "\n",
    "a + b"
   ]
  },
  {
   "cell_type": "markdown",
   "id": "1aac0204-a453-46dc-9eec-dca10aca496d",
   "metadata": {},
   "source": [
    "**Explanation**\n",
    "1. We start with the right most shape numbers.\n",
    "2. 3 vs 1: Fits criteria. Since b has 1, it will stretch to 3 if broadcasting succeeds.\n",
    "3. 3 vs 2: Does NOT fit criteria. Broadcasting fails."
   ]
  },
  {
   "cell_type": "markdown",
   "id": "69d43b9b-40bc-41fa-a615-5e173ebc9979",
   "metadata": {},
   "source": [
    "### 4.3 Math functions"
   ]
  },
  {
   "cell_type": "code",
   "execution_count": 104,
   "id": "573aa1f0-a13d-4766-b512-a60f0fdfe5ae",
   "metadata": {},
   "outputs": [
    {
     "data": {
      "text/plain": [
       "array([[9, 9, 7, 5],\n",
       "       [7, 0, 5, 7],\n",
       "       [2, 6, 4, 8]])"
      ]
     },
     "execution_count": 104,
     "metadata": {},
     "output_type": "execute_result"
    }
   ],
   "source": [
    "rand_int"
   ]
  },
  {
   "cell_type": "code",
   "execution_count": 100,
   "id": "0e53b5de-0daf-4c60-8733-9c1132bc34aa",
   "metadata": {},
   "outputs": [
    {
     "data": {
      "text/plain": [
       "array([[81, 81, 49, 25],\n",
       "       [49,  0, 25, 49],\n",
       "       [ 4, 36, 16, 64]])"
      ]
     },
     "execution_count": 100,
     "metadata": {},
     "output_type": "execute_result"
    }
   ],
   "source": [
    "np.square(rand_int)"
   ]
  },
  {
   "cell_type": "code",
   "execution_count": 101,
   "id": "d074805a-a985-4799-8854-e957b2f85508",
   "metadata": {},
   "outputs": [
    {
     "data": {
      "text/plain": [
       "np.float64(5.75)"
      ]
     },
     "execution_count": 101,
     "metadata": {},
     "output_type": "execute_result"
    }
   ],
   "source": [
    "np.mean(rand_int)"
   ]
  },
  {
   "cell_type": "code",
   "execution_count": 105,
   "id": "55a73aa4-700f-48d1-b52d-f1bc345f334f",
   "metadata": {},
   "outputs": [
    {
     "data": {
      "text/plain": [
       "np.int64(9)"
      ]
     },
     "execution_count": 105,
     "metadata": {},
     "output_type": "execute_result"
    }
   ],
   "source": [
    "np.max(rand_int)"
   ]
  },
  {
   "cell_type": "code",
   "execution_count": 106,
   "id": "d1a02843-e7b4-4553-9331-39d9c0451eea",
   "metadata": {},
   "outputs": [
    {
     "data": {
      "text/plain": [
       "np.int64(0)"
      ]
     },
     "execution_count": 106,
     "metadata": {},
     "output_type": "execute_result"
    }
   ],
   "source": [
    "np.min(rand_int)"
   ]
  },
  {
   "cell_type": "code",
   "execution_count": 108,
   "id": "8d5e6271-fc97-4187-bae4-9309c9211c8b",
   "metadata": {},
   "outputs": [
    {
     "data": {
      "text/plain": [
       "np.float64(6.854166666666667)"
      ]
     },
     "execution_count": 108,
     "metadata": {},
     "output_type": "execute_result"
    }
   ],
   "source": [
    "np.var(rand_int) # Variance"
   ]
  },
  {
   "cell_type": "code",
   "execution_count": 107,
   "id": "38455228-f8a4-46f0-a3cb-fa8f124af617",
   "metadata": {},
   "outputs": [
    {
     "data": {
      "text/plain": [
       "np.float64(2.6180463454008347)"
      ]
     },
     "execution_count": 107,
     "metadata": {},
     "output_type": "execute_result"
    }
   ],
   "source": [
    "np.std(rand_int) # Standard Deviation"
   ]
  },
  {
   "cell_type": "markdown",
   "id": "8445128b-2b81-4967-9383-2e4298e93b39",
   "metadata": {},
   "source": [
    "### 4.4 Reshaping & Transposing\n",
    "\n",
    "#### 4.4.1 Reshaping\n",
    "When reshaping, the total number of elements must stay the same.\n",
    "\n",
    "For example, if you have 12 elements, you can reshape to (3, 4), (4, 3), (2, 6), (12, 1), but not (5, 5)."
   ]
  },
  {
   "cell_type": "code",
   "execution_count": 122,
   "id": "a9cc116d-ab00-4206-8f8a-c9fe126c9f5e",
   "metadata": {},
   "outputs": [
    {
     "name": "stdout",
     "output_type": "stream",
     "text": [
      "Shape:  (3, 4)\n",
      "Size:  12\n"
     ]
    }
   ],
   "source": [
    "print(\"Shape: \", rand_int.shape)\n",
    "print(\"Size: \", rand_int.size)"
   ]
  },
  {
   "cell_type": "code",
   "execution_count": 123,
   "id": "31d71547-62a2-4f46-b696-de786decb7ac",
   "metadata": {},
   "outputs": [
    {
     "data": {
      "text/plain": [
       "array([[9, 9, 7, 5],\n",
       "       [7, 0, 5, 7],\n",
       "       [2, 6, 4, 8]])"
      ]
     },
     "execution_count": 123,
     "metadata": {},
     "output_type": "execute_result"
    }
   ],
   "source": [
    "rand_int"
   ]
  },
  {
   "cell_type": "markdown",
   "id": "949f1761-c0c4-4c88-ba7d-558bc9632f0c",
   "metadata": {},
   "source": [
    "\n",
    "\n",
    "**Success Examples**"
   ]
  },
  {
   "cell_type": "code",
   "execution_count": 124,
   "id": "8bccc631-c526-4c14-8a64-7a396cc38d80",
   "metadata": {},
   "outputs": [
    {
     "name": "stdout",
     "output_type": "stream",
     "text": [
      "[[9 9 7]\n",
      " [5 7 0]\n",
      " [5 7 2]\n",
      " [6 4 8]]\n"
     ]
    }
   ],
   "source": [
    "print(rand_int.reshape(4, 3))"
   ]
  },
  {
   "cell_type": "code",
   "execution_count": 125,
   "id": "664578ac-f1ff-43ee-9cb8-d79187c4f25f",
   "metadata": {},
   "outputs": [
    {
     "name": "stdout",
     "output_type": "stream",
     "text": [
      "[[9 9 7 5 7 0]\n",
      " [5 7 2 6 4 8]]\n"
     ]
    }
   ],
   "source": [
    "print(rand_int.reshape(2, 6))"
   ]
  },
  {
   "cell_type": "code",
   "execution_count": 127,
   "id": "938cab6c-fc29-47f2-947a-f94038b09aea",
   "metadata": {},
   "outputs": [
    {
     "name": "stdout",
     "output_type": "stream",
     "text": [
      "[[9 9 7 5 7 0 5 7 2 6 4 8]]\n"
     ]
    }
   ],
   "source": [
    "print(rand_int.reshape(1, 12))"
   ]
  },
  {
   "cell_type": "markdown",
   "id": "20612c3c-a767-4ab6-85a4-107aa5e17c69",
   "metadata": {},
   "source": [
    "**Fail Example**"
   ]
  },
  {
   "cell_type": "code",
   "execution_count": 128,
   "id": "3dd90934-1e4d-4b17-b44d-14d97dc8a536",
   "metadata": {},
   "outputs": [
    {
     "ename": "ValueError",
     "evalue": "cannot reshape array of size 12 into shape (5,5)",
     "output_type": "error",
     "traceback": [
      "\u001b[31m---------------------------------------------------------------------------\u001b[39m",
      "\u001b[31mValueError\u001b[39m                                Traceback (most recent call last)",
      "\u001b[36mCell\u001b[39m\u001b[36m \u001b[39m\u001b[32mIn[128]\u001b[39m\u001b[32m, line 1\u001b[39m\n\u001b[32m----> \u001b[39m\u001b[32m1\u001b[39m \u001b[38;5;28mprint\u001b[39m(rand_int.reshape(\u001b[32m5\u001b[39m, \u001b[32m5\u001b[39m))\n",
      "\u001b[31mValueError\u001b[39m: cannot reshape array of size 12 into shape (5,5)"
     ]
    }
   ],
   "source": [
    "print(rand_int.reshape(5, 5))"
   ]
  },
  {
   "cell_type": "markdown",
   "id": "50ea682d-ae3d-4205-912c-f3f731fff193",
   "metadata": {},
   "source": [
    "#### 4.4.2 Transposing\n",
    "`.T` just flips the axis. So, for example, (3, 4) becomes (4, 3)."
   ]
  },
  {
   "cell_type": "code",
   "execution_count": 131,
   "id": "45d5f816-d0c0-4a46-bbd5-647339e50520",
   "metadata": {},
   "outputs": [
    {
     "data": {
      "text/plain": [
       "(3, 4)"
      ]
     },
     "execution_count": 131,
     "metadata": {},
     "output_type": "execute_result"
    }
   ],
   "source": [
    "rand_int.shape"
   ]
  },
  {
   "cell_type": "code",
   "execution_count": 132,
   "id": "ab7cc89f-975f-4f98-bffa-3e6d9b629c6f",
   "metadata": {},
   "outputs": [
    {
     "data": {
      "text/plain": [
       "array([[9, 9, 7, 5],\n",
       "       [7, 0, 5, 7],\n",
       "       [2, 6, 4, 8]])"
      ]
     },
     "execution_count": 132,
     "metadata": {},
     "output_type": "execute_result"
    }
   ],
   "source": [
    "rand_int"
   ]
  },
  {
   "cell_type": "code",
   "execution_count": 133,
   "id": "543b0c63-fe68-471c-a42d-cddbebc3d4b2",
   "metadata": {},
   "outputs": [
    {
     "data": {
      "text/plain": [
       "(4, 3)"
      ]
     },
     "execution_count": 133,
     "metadata": {},
     "output_type": "execute_result"
    }
   ],
   "source": [
    "rand_int.T.shape"
   ]
  },
  {
   "cell_type": "code",
   "execution_count": 134,
   "id": "a0c1eebe-f2d9-4a1b-bdd0-7756bed2f942",
   "metadata": {},
   "outputs": [
    {
     "data": {
      "text/plain": [
       "array([[9, 7, 2],\n",
       "       [9, 0, 6],\n",
       "       [7, 5, 4],\n",
       "       [5, 7, 8]])"
      ]
     },
     "execution_count": 134,
     "metadata": {},
     "output_type": "execute_result"
    }
   ],
   "source": [
    "rand_int.T"
   ]
  },
  {
   "cell_type": "markdown",
   "id": "63dd14dc-7db5-47bd-9e93-bd9f4aa43d53",
   "metadata": {},
   "source": [
    "## 5. Dot Product\n",
    "For two arrays A (x, y) and B (y, z) result is (x, z). \n",
    "\n",
    "Note that inner numbers have to be equal. "
   ]
  },
  {
   "cell_type": "code",
   "execution_count": 148,
   "id": "04010c9a-f4f7-43b3-b363-11ad0b9fc7ab",
   "metadata": {},
   "outputs": [
    {
     "data": {
      "text/plain": [
       "array([[1, 2, 1],\n",
       "       [5, 5, 7]])"
      ]
     },
     "execution_count": 148,
     "metadata": {},
     "output_type": "execute_result"
    }
   ],
   "source": [
    "A = np.random.randint(1, 10, size=(2, 3))\n",
    "\n",
    "A"
   ]
  },
  {
   "cell_type": "code",
   "execution_count": 149,
   "id": "3a60e486-c3c4-45ba-8604-b92963372b29",
   "metadata": {},
   "outputs": [
    {
     "data": {
      "text/plain": [
       "array([[9, 9, 3, 3],\n",
       "       [3, 4, 8, 6],\n",
       "       [8, 1, 8, 4]])"
      ]
     },
     "execution_count": 149,
     "metadata": {},
     "output_type": "execute_result"
    }
   ],
   "source": [
    "B = np.random.randint(1, 10, size=(3, 4))\n",
    "\n",
    "B"
   ]
  },
  {
   "cell_type": "code",
   "execution_count": 154,
   "id": "a588aa00-eb4a-484c-b33b-64d8af719e5a",
   "metadata": {},
   "outputs": [
    {
     "data": {
      "text/plain": [
       "array([[ 23,  18,  27,  19],\n",
       "       [116,  72, 111,  73]])"
      ]
     },
     "execution_count": 154,
     "metadata": {},
     "output_type": "execute_result"
    }
   ],
   "source": [
    "# (2, 3) dot (3, 4) = (2, 4)\n",
    "np.dot(A, B)"
   ]
  },
  {
   "cell_type": "code",
   "execution_count": 155,
   "id": "6d1691e6-d406-4387-8bd5-41c9a091706e",
   "metadata": {},
   "outputs": [
    {
     "data": {
      "text/plain": [
       "(2, 4)"
      ]
     },
     "execution_count": 155,
     "metadata": {},
     "output_type": "execute_result"
    }
   ],
   "source": [
    "np.dot(A, B).shape"
   ]
  },
  {
   "cell_type": "markdown",
   "id": "a7b7feff-8352-4407-ad1c-95e0ae2d3b9c",
   "metadata": {},
   "source": [
    "Dot product fails when inner numbers don't match. This is when reshaping and transposing techniques come to use."
   ]
  },
  {
   "cell_type": "code",
   "execution_count": 152,
   "id": "eb2d33c1-a1ee-49f7-960f-f8b3bf1272c7",
   "metadata": {},
   "outputs": [
    {
     "data": {
      "text/plain": [
       "array([[1, 8, 4, 6],\n",
       "       [8, 4, 3, 9],\n",
       "       [3, 9, 2, 2]])"
      ]
     },
     "execution_count": 152,
     "metadata": {},
     "output_type": "execute_result"
    }
   ],
   "source": [
    "C = np.random.randint(1, 10, size = (3, 4))\n",
    "\n",
    "C"
   ]
  },
  {
   "cell_type": "code",
   "execution_count": 153,
   "id": "cdf8d46b-9351-432c-86b1-a8263ca0de60",
   "metadata": {},
   "outputs": [
    {
     "data": {
      "text/plain": [
       "array([[2, 6, 3, 9],\n",
       "       [4, 1, 4, 1],\n",
       "       [5, 4, 8, 8]])"
      ]
     },
     "execution_count": 153,
     "metadata": {},
     "output_type": "execute_result"
    }
   ],
   "source": [
    "D = np.random.randint(1, 10, size = (3, 4))\n",
    "\n",
    "D"
   ]
  },
  {
   "cell_type": "code",
   "execution_count": 156,
   "id": "ef199063-6e6c-4c91-8a10-7c4a80a66822",
   "metadata": {},
   "outputs": [
    {
     "ename": "ValueError",
     "evalue": "shapes (3,4) and (3,4) not aligned: 4 (dim 1) != 3 (dim 0)",
     "output_type": "error",
     "traceback": [
      "\u001b[31m---------------------------------------------------------------------------\u001b[39m",
      "\u001b[31mValueError\u001b[39m                                Traceback (most recent call last)",
      "\u001b[36mCell\u001b[39m\u001b[36m \u001b[39m\u001b[32mIn[156]\u001b[39m\u001b[32m, line 2\u001b[39m\n\u001b[32m      1\u001b[39m \u001b[38;5;66;03m# (3, 4) dot (3, 4) = fail\u001b[39;00m\n\u001b[32m----> \u001b[39m\u001b[32m2\u001b[39m np.dot(C, D)\n",
      "\u001b[31mValueError\u001b[39m: shapes (3,4) and (3,4) not aligned: 4 (dim 1) != 3 (dim 0)"
     ]
    }
   ],
   "source": [
    "# (3, 4) dot (3, 4) = fail\n",
    "np.dot(C, D)"
   ]
  },
  {
   "cell_type": "markdown",
   "id": "ece1d208-1600-4274-aeda-2c6b51005d57",
   "metadata": {},
   "source": [
    "Fixing the issue with reshaping and transposing techniques..."
   ]
  },
  {
   "cell_type": "code",
   "execution_count": 158,
   "id": "eb18b68c-bfb7-4578-9321-b985fd06bf3a",
   "metadata": {},
   "outputs": [
    {
     "data": {
      "text/plain": [
       "array([[116,  34, 117],\n",
       "       [130,  57, 152],\n",
       "       [ 84,  31,  83]])"
      ]
     },
     "execution_count": 158,
     "metadata": {},
     "output_type": "execute_result"
    }
   ],
   "source": [
    "# (3, 4) dot (4, 3) = (3, 3) success\n",
    "np.dot(C, D.T)"
   ]
  },
  {
   "cell_type": "markdown",
   "id": "70ca7811-992d-41e6-abab-b81c00d9989c",
   "metadata": {},
   "source": [
    "## 6. Comparasions & Sorting\n",
    "\n",
    "### 6.1 Element-wise comparasions\n",
    "Compares each element."
   ]
  },
  {
   "cell_type": "code",
   "execution_count": 174,
   "id": "f097cb49-3009-4e38-a393-2d976fa03ef8",
   "metadata": {},
   "outputs": [
    {
     "data": {
      "text/plain": [
       "array([[7, 1, 5, 6, 1],\n",
       "       [9, 1, 9, 0, 7],\n",
       "       [0, 8, 5, 6, 9]])"
      ]
     },
     "execution_count": 174,
     "metadata": {},
     "output_type": "execute_result"
    }
   ],
   "source": [
    "A = np.random.randint(0, 10, size=(3, 5))\n",
    "\n",
    "A"
   ]
  },
  {
   "cell_type": "code",
   "execution_count": 175,
   "id": "ba666cd4-0e88-4f94-a903-8909b2479c47",
   "metadata": {},
   "outputs": [
    {
     "data": {
      "text/plain": [
       "array([[6, 9, 2, 1, 8],\n",
       "       [7, 9, 6, 8, 3],\n",
       "       [3, 0, 7, 2, 6]])"
      ]
     },
     "execution_count": 175,
     "metadata": {},
     "output_type": "execute_result"
    }
   ],
   "source": [
    "B = np.random.randint(0, 10, size=(3, 5))\n",
    "\n",
    "B"
   ]
  },
  {
   "cell_type": "code",
   "execution_count": 176,
   "id": "b7e5d175-7c7e-4ca4-9a2b-5ba99a0f1f87",
   "metadata": {},
   "outputs": [
    {
     "data": {
      "text/plain": [
       "array([[ True, False,  True,  True, False],\n",
       "       [ True, False,  True, False,  True],\n",
       "       [False,  True, False,  True,  True]])"
      ]
     },
     "execution_count": 176,
     "metadata": {},
     "output_type": "execute_result"
    }
   ],
   "source": [
    "A > B"
   ]
  },
  {
   "cell_type": "code",
   "execution_count": 177,
   "id": "4b9559b3-8eaa-4d56-a2ea-510ec9150a12",
   "metadata": {},
   "outputs": [
    {
     "data": {
      "text/plain": [
       "array([[False, False, False, False, False],\n",
       "       [False, False, False, False, False],\n",
       "       [False, False, False, False, False]])"
      ]
     },
     "execution_count": 177,
     "metadata": {},
     "output_type": "execute_result"
    }
   ],
   "source": [
    "A == B"
   ]
  },
  {
   "cell_type": "code",
   "execution_count": 178,
   "id": "ac6a3493-492b-4797-8ff2-aace0e5cb901",
   "metadata": {},
   "outputs": [
    {
     "data": {
      "text/plain": [
       "array([[ True, False,  True,  True, False],\n",
       "       [ True, False,  True, False,  True],\n",
       "       [False,  True,  True,  True,  True]])"
      ]
     },
     "execution_count": 178,
     "metadata": {},
     "output_type": "execute_result"
    }
   ],
   "source": [
    "A > 4"
   ]
  },
  {
   "cell_type": "markdown",
   "id": "b2cd0d99-887a-49ee-acf9-105eebea8e01",
   "metadata": {},
   "source": [
    "### 6.2 Boolean masks\n",
    "Same as boolean indexing, you define a mask with array comparasion, then use it as index to filter values. This is called masking."
   ]
  },
  {
   "cell_type": "code",
   "execution_count": 179,
   "id": "6919604e-16e0-412e-9ce1-b2dd367dfa26",
   "metadata": {},
   "outputs": [
    {
     "data": {
      "text/plain": [
       "array([7, 5, 6, 9, 9, 7, 8, 6, 9])"
      ]
     },
     "execution_count": 179,
     "metadata": {},
     "output_type": "execute_result"
    }
   ],
   "source": [
    "mask = A > B\n",
    "\n",
    "A[mask]"
   ]
  },
  {
   "cell_type": "markdown",
   "id": "2b5773b0-1078-4075-ba04-69cf433f631e",
   "metadata": {},
   "source": [
    "### 6.3 Sorting arrays"
   ]
  },
  {
   "cell_type": "code",
   "execution_count": 180,
   "id": "22ac5460-6ea0-44ae-9861-feb1760c1739",
   "metadata": {},
   "outputs": [
    {
     "data": {
      "text/plain": [
       "array([[1, 1, 5, 6, 7],\n",
       "       [0, 1, 7, 9, 9],\n",
       "       [0, 5, 6, 8, 9]])"
      ]
     },
     "execution_count": 180,
     "metadata": {},
     "output_type": "execute_result"
    }
   ],
   "source": [
    "# Sorts each row individually\n",
    "np.sort(A)"
   ]
  },
  {
   "cell_type": "markdown",
   "id": "2aa07d75-c82f-4b98-bc44-b18da8b5e0f1",
   "metadata": {},
   "source": [
    "### 6.4 Sorting indexes\n",
    "Similar to `sort` however turns numbers to their indexes then sort them in terms of their original values."
   ]
  },
  {
   "cell_type": "code",
   "execution_count": 181,
   "id": "e77dc20d-1085-4e8d-a353-1a8975a2d9e8",
   "metadata": {},
   "outputs": [
    {
     "data": {
      "text/plain": [
       "array([[1, 4, 2, 3, 0],\n",
       "       [3, 1, 4, 0, 2],\n",
       "       [0, 2, 3, 1, 4]])"
      ]
     },
     "execution_count": 181,
     "metadata": {},
     "output_type": "execute_result"
    }
   ],
   "source": [
    "np.argsort(A)"
   ]
  },
  {
   "cell_type": "markdown",
   "id": "3cd7253f-217e-4d62-9baf-d6369ea10f5e",
   "metadata": {},
   "source": [
    "### 6.5 Argmax & Argmin"
   ]
  },
  {
   "cell_type": "code",
   "execution_count": 183,
   "id": "b5cd0249-2c25-4683-9f35-e06721a3e3cf",
   "metadata": {},
   "outputs": [
    {
     "data": {
      "text/plain": [
       "np.int64(5)"
      ]
     },
     "execution_count": 183,
     "metadata": {},
     "output_type": "execute_result"
    }
   ],
   "source": [
    "# Index of maximum value (flattened array)\n",
    "np.argmax(A)"
   ]
  },
  {
   "cell_type": "code",
   "execution_count": 184,
   "id": "2321eb29-d04a-41d8-a8e4-f0dddadb92f6",
   "metadata": {},
   "outputs": [
    {
     "data": {
      "text/plain": [
       "np.int64(8)"
      ]
     },
     "execution_count": 184,
     "metadata": {},
     "output_type": "execute_result"
    }
   ],
   "source": [
    "# Index of minimum value (flattened array)\n",
    "np.argmin(A)"
   ]
  },
  {
   "cell_type": "markdown",
   "id": "b009234a-a7a8-4613-a301-3557e856e17a",
   "metadata": {},
   "source": [
    "### 6.6 Axis concept\n",
    "Many methods take a parameter called `axis`. When `axis = 1`, it means rows and when `axis = 0`, it means columns."
   ]
  },
  {
   "cell_type": "code",
   "execution_count": 187,
   "id": "c12fd3e8-bc66-4efc-81ef-b442aaf12755",
   "metadata": {},
   "outputs": [
    {
     "data": {
      "text/plain": [
       "array([[0, 1, 5, 0, 1],\n",
       "       [7, 1, 5, 6, 7],\n",
       "       [9, 8, 9, 6, 9]])"
      ]
     },
     "execution_count": 187,
     "metadata": {},
     "output_type": "execute_result"
    }
   ],
   "source": [
    "# Sorts columns instead of rows\n",
    "np.sort(A, axis=0)"
   ]
  },
  {
   "cell_type": "code",
   "execution_count": 188,
   "id": "ccd2e218-4084-40d4-b823-9dc079dd99d3",
   "metadata": {},
   "outputs": [
    {
     "data": {
      "text/plain": [
       "array([0, 0, 1, 1, 1, 5, 5, 6, 6, 7, 7, 8, 9, 9, 9])"
      ]
     },
     "execution_count": 188,
     "metadata": {},
     "output_type": "execute_result"
    }
   ],
   "source": [
    "# Sorts entire array flattened\n",
    "np.sort(A, axis=None)"
   ]
  },
  {
   "cell_type": "code",
   "execution_count": 189,
   "id": "28cfd96e-a7ea-4ffa-aa2c-d2ab4ccecc61",
   "metadata": {},
   "outputs": [
    {
     "data": {
      "text/plain": [
       "array([1, 2, 1, 0, 2])"
      ]
     },
     "execution_count": 189,
     "metadata": {},
     "output_type": "execute_result"
    }
   ],
   "source": [
    "# Index of max value per column\n",
    "np.argmax(A, axis=0)"
   ]
  },
  {
   "cell_type": "code",
   "execution_count": 190,
   "id": "a29a1f00-200e-4cff-926f-c3e1fce6883e",
   "metadata": {},
   "outputs": [
    {
     "data": {
      "text/plain": [
       "array([9, 8, 9, 6, 9])"
      ]
     },
     "execution_count": 190,
     "metadata": {},
     "output_type": "execute_result"
    }
   ],
   "source": [
    "# Max value per column\n",
    "np.max(A, axis=0)"
   ]
  },
  {
   "cell_type": "markdown",
   "id": "2b096749-7b3c-4640-808a-6a7b70f2321c",
   "metadata": {},
   "source": [
    "## The End\n",
    "**Author:** Yazeed al-Momani  "
   ]
  }
 ],
 "metadata": {
  "kernelspec": {
   "display_name": "Python 3 (ipykernel)",
   "language": "python",
   "name": "python3"
  },
  "language_info": {
   "codemirror_mode": {
    "name": "ipython",
    "version": 3
   },
   "file_extension": ".py",
   "mimetype": "text/x-python",
   "name": "python",
   "nbconvert_exporter": "python",
   "pygments_lexer": "ipython3",
   "version": "3.13.5"
  }
 },
 "nbformat": 4,
 "nbformat_minor": 5
}
